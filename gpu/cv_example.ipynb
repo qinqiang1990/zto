{
 "cells": [
  {
   "cell_type": "code",
   "execution_count": null,
   "metadata": {},
   "outputs": [
    {
     "name": "stdout",
     "output_type": "stream",
     "text": [
      "img size: (2048, 2576, 3)\n",
      "img size: (614, 772, 3)\n"
     ]
    }
   ],
   "source": [
    "#coding:utf-8\n",
    "shrink = 0.3\n",
    "\n",
    "import cv2\n",
    "\n",
    "\n",
    "img = cv2.imread(\"C:/Users/qinq/Pictures/zto/7.jpg\")\n",
    "print(\"img size:\",img.shape)\n",
    "\n",
    "height, width = img.shape[:2]\n",
    "size = (int(width*shrink), int(height*shrink))  \n",
    "\n",
    "img = cv2.resize(img, size, interpolation=cv2.INTER_AREA)  \n",
    "print(\"img size:\",img.shape)\n",
    "\n",
    "\n",
    "x = cv2.Sobel(img,cv2.CV_16S,1,0)\n",
    "y = cv2.Sobel(img,cv2.CV_16S,0,1)  \n",
    "absX = cv2.convertScaleAbs(x)\n",
    "absY = cv2.convertScaleAbs(y)  \n",
    "sobel = cv2.addWeighted(absX,0.5,absY,0.5,0)  \n",
    "cv2.imshow(\"sobel\", sobel)  \n",
    "\n",
    "\n",
    "gray_lap = cv2.Laplacian(img,cv2.CV_16S,ksize = 3)\n",
    "laplacian = cv2.convertScaleAbs(gray_lap)\n",
    "cv2.imshow('laplacian',laplacian)\n",
    "\n",
    "\n",
    "gray = cv2.cvtColor(img,cv2.COLOR_BGR2GRAY)\n",
    "detected_edges = cv2.GaussianBlur(gray,(3,3),0)\n",
    "canny = cv2.Canny(img, 50, 150)\n",
    "cv2.imshow('canny',canny)\n",
    "    \n",
    "    \n",
    "cv2.waitKey(0)\n",
    "cv2.destroyAllWindows()\n"
   ]
  },
  {
   "cell_type": "code",
   "execution_count": null,
   "metadata": {},
   "outputs": [],
   "source": [
    "#coding:utf-8\n",
    "\n",
    "'''\n",
    "图像灰度化\n",
    "1、基本公式：Gray(i,j) = [R(i,j) + G(i,j) + B(i,j)] / 3\n",
    "根据人眼对颜色的感知程度不同，衍生出第二个公式：\n",
    "Gray(i,j) = 0.299 * R(i,j) + 0.587 * G(i,j) + 0.114 * B(i,j)\n",
    "'''\n",
    "import numpy as np\n",
    "import cv2\n",
    "\n",
    "def grey_avg_by_weight(image):\n",
    "    \n",
    "    img_rgb = cv2.cvtColor(image,cv2.COLOR_BGR2RGB)\n",
    "    rows,cols,_ = image.shape\n",
    "    dist = np.zeros((rows,cols),dtype=image.dtype)\n",
    "    \n",
    "    for y in range(rows):\n",
    "        for x in range(cols):\n",
    "            r,g,b = img_rgb[y,x]\n",
    "            r = np.uint8(r * 0.299)\n",
    "            g = np.uint8(g * 0.587)\n",
    "            b = np.uint8(b * 0.114)\n",
    "\n",
    "            rgb = np.uint8(r * 0.299 + b * 0.114 + g * 0.587)\n",
    "            dist[y,x] = rgb\n",
    "    return dist\n",
    "\n",
    "\n",
    "def grey_avg(image):\n",
    "    img_rgb = cv2.cvtColor(image,cv2.COLOR_BGR2RGB)\n",
    "    rows,cols,_ = image.shape\n",
    "    dist = np.zeros((rows,cols),dtype=image.dtype)\n",
    "    \n",
    "    for y in range(rows):\n",
    "        for x in range(cols):\n",
    "            avg = sum(image[y,x]) / 3\n",
    "            dist[y,x] = np.uint8(avg)\n",
    "    \n",
    "    return dist\n",
    "\n",
    "src = cv2.imread(\"C:/Users/qinq/Pictures/zto/1.JPG\")\n",
    "\n",
    "avg = grey_avg(src)\n",
    "avg_by_weight = grey_avg_by_weight(src)\n",
    "\n",
    "cv2.imshow('src',src)\n",
    "cv2.imshow('avg',avg)\n",
    "cv2.imshow('avg_by_weight',avg_by_weight)\n",
    "\n",
    "cv2.waitKey()\n",
    "cv2.destroyAllWindows()"
   ]
  }
 ],
 "metadata": {
  "kernelspec": {
   "display_name": "Python 3",
   "language": "python",
   "name": "python3"
  },
  "language_info": {
   "codemirror_mode": {
    "name": "ipython",
    "version": 3
   },
   "file_extension": ".py",
   "mimetype": "text/x-python",
   "name": "python",
   "nbconvert_exporter": "python",
   "pygments_lexer": "ipython3",
   "version": "3.6.5"
  }
 },
 "nbformat": 4,
 "nbformat_minor": 2
}
