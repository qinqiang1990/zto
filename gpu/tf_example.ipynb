{
 "cells": [
  {
   "cell_type": "code",
   "execution_count": 1,
   "metadata": {},
   "outputs": [
    {
     "name": "stderr",
     "output_type": "stream",
     "text": [
      "/opt/anaconda3/lib/python3.6/site-packages/h5py/__init__.py:36: FutureWarning: Conversion of the second argument of issubdtype from `float` to `np.floating` is deprecated. In future, it will be treated as `np.float64 == np.dtype(float).type`.\n",
      "  from ._conv import register_converters as _register_converters\n"
     ]
    },
    {
     "name": "stdout",
     "output_type": "stream",
     "text": [
      "结果是：4\n",
      "42\n"
     ]
    }
   ],
   "source": [
    "import tensorflow as tf\n",
    "\n",
    "#allow_soft_placement=True 表示使用不能使用显卡时使用cpu\n",
    "#log_device_placement=False 不打印日志，不然会刷屏 \n",
    "\n",
    "with tf.Session(config=tf.ConfigProto(allow_soft_placement=True, log_device_placement=False)) as sess:\n",
    "    a = tf.constant(1)\n",
    "    b = tf.constant(3)\n",
    "    c = a + b\n",
    "    print('结果是：%d' % sess.run(c))\n",
    "\n",
    "\n",
    "# new  graph.\n",
    "x=3\n",
    "y=4\n",
    "z=2\n",
    "with tf.device('/gpu:0'):\n",
    "    a=tf.multiply(x,x)\n",
    "    b=tf.multiply(a,y)\n",
    "with tf.device('/gpu:1'):\n",
    "    c=tf.add(y,z)\n",
    "\n",
    "sess=tf.Session(config=tf.ConfigProto(allow_soft_placement=True, log_device_placement=False))\n",
    "d=tf.add(b,c)\n",
    "\n",
    "print(sess.run(d))\n",
    "\n"
   ]
  }
 ],
 "metadata": {
  "kernelspec": {
   "display_name": "Python 2",
   "language": "python",
   "name": "python2"
  },
  "language_info": {
   "codemirror_mode": {
    "name": "ipython",
    "version": 2
   },
   "file_extension": ".py",
   "mimetype": "text/x-python",
   "name": "python",
   "nbconvert_exporter": "python",
   "pygments_lexer": "ipython2",
   "version": "2.7.12"
  }
 },
 "nbformat": 4,
 "nbformat_minor": 2
}
